{
 "cells": [
  {
   "cell_type": "markdown",
   "id": "46b78981",
   "metadata": {},
   "source": [
    "# Sudoku Solver\n",
    "This week our agent will be solving Sudoku puzzles.\n",
    "\n",
    "Your task is to define the Sudoku puzzle as a CSP problem then use the CSP algorithms that we covered in class to solve it.  Theses algorithms have been implemented for you as methods in the CSP class in the [csp.ipynb](./csp.ipynb) notebook.   \n",
    "In this notebook (sudoku), you'll implement the following functions:\n",
    "1.  build_cs  \n",
    "2.  btrack\n",
    "3.  btrackac3\n",
    "4.  btrackmrvac3\n",
    "\n",
    "\n",
    "Feel free to add some additional helper functions to make your implementation dry.\n",
    "\n",
    "This is the only notebook you need to submit when you complete your assignment.\n",
    "\n",
    "Let's first import all we need before we get started. Make sure you run the code cell below everytime you start working on this notebook."
   ]
  },
  {
   "cell_type": "code",
   "execution_count": null,
   "id": "f1e39a2e",
   "metadata": {},
   "outputs": [],
   "source": [
    "%run csp.ipynb"
   ]
  },
  {
   "cell_type": "markdown",
   "id": "e87ff987",
   "metadata": {},
   "source": [
    "## Step 1: Create the CSP Object\n",
    "Implement the function _build_csp_ to create a CSP object representing the puzzle - with all the variables, domains and constraints.  \n",
    "\n",
    "Take a look at the [csp.ipynb](./csp.ipynb) notebook, to figure out what you need to create the CSP object."
   ]
  },
  {
   "cell_type": "markdown",
   "id": "50e150f8",
   "metadata": {},
   "source": [
    "Implement the function _build_csp_ to create a CSP object representing the puzzle - with domains, neighbors and constraints. "
   ]
  },
  {
   "cell_type": "code",
   "execution_count": null,
   "id": "0f386987",
   "metadata": {},
   "outputs": [],
   "source": [
    "# Enter your helper functions if any here"
   ]
  },
  {
   "cell_type": "code",
   "execution_count": null,
   "id": "8374f10d",
   "metadata": {},
   "outputs": [],
   "source": [
    "def build_csp(puzzle):\n",
    "    \"\"\"\n",
    "    Create a CSP object representing the puzzle.\n",
    "    :param puzzle: (list of strings) representing the puzzle - one string per line\n",
    "    :return: CSP object\n",
    "    \"\"\"\n",
    "    # Enter your code here and remove the pass statement below\n",
    "    pass"
   ]
  },
  {
   "cell_type": "markdown",
   "id": "edbd262c",
   "metadata": {
    "lines_to_next_cell": 2
   },
   "source": [
    "## Step 2:  Backtracking Search\n",
    "Implement the function btrack.\n",
    "\n",
    "This function takes a list of strings representing the puzzle as an argument.\n",
    "\n",
    "The function should call build_csp to create the CSP object then invoke the basic backtracking search algorithm on that CSP object.\n",
    "\n",
    "The function returns a tuple: the solution (a dictionary representing a complete and valid assignment), and the CSP object.\n"
   ]
  },
  {
   "cell_type": "code",
   "execution_count": null,
   "id": "f96a05c1",
   "metadata": {},
   "outputs": [],
   "source": [
    "def btrack(puzzle):\n",
    "    \"\"\"\n",
    "    Solve the given puzzle with basic backtracking search\n",
    "    :param puzzle: (list of strings) representing the puzzle - one string per line\n",
    "    :return: a tuple consisting of a solution (dictionary) and the\n",
    "    CSP bject.\n",
    "    \"\"\"\n",
    "    # Enter your code here and remove the pass statement below\n",
    "    pass"
   ]
  },
  {
   "cell_type": "markdown",
   "id": "d655c0b2",
   "metadata": {},
   "source": [
    "You can now test your function with the puzzle [veryeasy.txt](./veryeasy.txt).   "
   ]
  },
  {
   "cell_type": "code",
   "execution_count": null,
   "id": "b0d8ce65",
   "metadata": {
    "scrolled": false
   },
   "outputs": [],
   "source": [
    "solve(\"btrack\", \"veryeasy.txt\")"
   ]
  },
  {
   "cell_type": "markdown",
   "id": "1a5d4674",
   "metadata": {},
   "source": [
    "You will see that even for this very easy puzzle, it takes a long time to find the solution.\n",
    "\n",
    "Can you find a solution for the puzzle [easy.txt](./easy.txt) in a reaonable time with this implementation?  \n",
    "\n",
    "**Note:  You can interrupt the kernel to stop processing after a couple of minutes.**"
   ]
  },
  {
   "cell_type": "code",
   "execution_count": null,
   "id": "f7b588b0",
   "metadata": {
    "scrolled": true
   },
   "outputs": [],
   "source": [
    "solve(\"btrack\", \"easy.txt\")"
   ]
  },
  {
   "cell_type": "markdown",
   "id": "0c9d5903",
   "metadata": {},
   "source": [
    "## Step 3:  Backtracking Search with AC-3\n",
    "Implement the function _btrackac3_.\n",
    "\n",
    "This function takes a list of strings representing the puzzle as an argument.\n",
    "\n",
    "The function should still call _build_csp_ to create the CSP object.\n",
    "\n",
    "It will run the AC-3 algorithm as a preprocessing step on the CSP object before invoking the basic backtracking search algorithm .\n",
    "\n",
    "The function returns a tuple: the solution (a dictionary representing a complete and valid assignment), and the CSP object."
   ]
  },
  {
   "cell_type": "code",
   "execution_count": null,
   "id": "62c89502",
   "metadata": {},
   "outputs": [],
   "source": [
    "def btrackac3(puzzle):\n",
    "    \"\"\"\n",
    "    Solve the given puzzle with backtracking search and AC-3 as\n",
    "    a preprocessing step.\n",
    "    :param puzzle: (list of strings) representing the puzzle - one string per line\n",
    "    :return: a tuple consisting of a solution (dictionary) and the\n",
    "    CSP object.\n",
    "    \"\"\"\n",
    "    # Enter your code here and remove the pass statement below\n",
    "    pass"
   ]
  },
  {
   "cell_type": "markdown",
   "id": "f4ba174c",
   "metadata": {},
   "source": [
    "With this implementation you should be able to find a solution almost instantaneously for the puzzles [veryeasy.txt](./veryeasy.txt) and  [easy.txt](./easy.txt) with only 81 nodes expanded.  The AC-3 algorithm has effectively reduced the domain of all variables to a single value so there was no backtracking in the search. "
   ]
  },
  {
   "cell_type": "code",
   "execution_count": null,
   "id": "a61c0aae",
   "metadata": {},
   "outputs": [],
   "source": [
    "solve(\"btrackac3\", \"veryeasy.txt\")"
   ]
  },
  {
   "cell_type": "code",
   "execution_count": null,
   "id": "69c45625",
   "metadata": {},
   "outputs": [],
   "source": [
    "solve(\"btrackac3\", \"easy.txt\")"
   ]
  },
  {
   "cell_type": "markdown",
   "id": "f99ef7c5",
   "metadata": {},
   "source": [
    "However the complexity of the puzzles in [medium.txt](./medium.txt) and [hard.txt](./hard.txt) is still out of reach.  \n",
    "\n",
    "**Note:  You can interrupt the kernel to stop processing after a couple of minutes.**"
   ]
  },
  {
   "cell_type": "code",
   "execution_count": null,
   "id": "7048d38f",
   "metadata": {},
   "outputs": [],
   "source": [
    "solve(\"btrackac3\", \"medium.txt\")"
   ]
  },
  {
   "cell_type": "code",
   "execution_count": null,
   "id": "0fb51153",
   "metadata": {},
   "outputs": [],
   "source": [
    "solve(\"btrackac3\", \"hard.txt\")"
   ]
  },
  {
   "cell_type": "markdown",
   "id": "1569a2b1",
   "metadata": {},
   "source": [
    "## Step 4:  Backtracking Search with MRV Ordering and AC-3\n",
    "Implement the function _btrackmrvac3_.\n",
    "\n",
    "This function takes a list of strings representing the puzzle as an argument.\n",
    "\n",
    "The function should still call _build_csp_ to create the CSP object.\n",
    "\n",
    "It will run the AC-3 algorithm as a preprocessing step on the CSP object before invoking the basic backtracking search with Most Remaining Values variable ordering .\n",
    "\n",
    "The function returns a tuple: the solution (a dictionary representing a complete and valid assignment), and the CSP object."
   ]
  },
  {
   "cell_type": "code",
   "execution_count": null,
   "id": "d0ded0d8",
   "metadata": {},
   "outputs": [],
   "source": [
    "def btrackmrvac3(puzzle):\n",
    "    \"\"\"\n",
    "    Solve the given puzzle with backtracking search and MRV ordering and\n",
    "    AC-3 as a preprocessing step.\n",
    "    :param puzzle: (list of strings) representing the puzzle - one string per line\n",
    "    :return: a tuple consisting of a solution (dictionary) and the\n",
    "    CSP object.\n",
    "    \"\"\"\n",
    "    # Enter your code here and remove the pass statement below\n",
    "    pass"
   ]
  },
  {
   "cell_type": "markdown",
   "source": [
    "You can see now how, with this approach, our agent is able to solve all the puzzles:  [medium.txt](./medium.txt), [hard.txt](./hard.txt), [veryeasy.txt](./veryeasy.txt) and  [easy.txt](./easy.txt) "
   ],
   "metadata": {
    "collapsed": false
   },
   "id": "e76a5a99f482b266"
  },
  {
   "cell_type": "code",
   "execution_count": null,
   "id": "85fa5028",
   "metadata": {},
   "outputs": [],
   "source": [
    "solve(\"btrackmrvac3\", \"medium.txt\")"
   ]
  },
  {
   "cell_type": "code",
   "execution_count": null,
   "id": "b64b116e",
   "metadata": {},
   "outputs": [],
   "source": [
    "solve(\"btrackmrvac3\", \"hard.txt\")"
   ]
  },
  {
   "cell_type": "code",
   "execution_count": null,
   "outputs": [],
   "source": [
    "solve(\"btrackmrvac3\", \"easy.txt\")"
   ],
   "metadata": {
    "collapsed": false
   },
   "id": "c1dfe776d0e5290"
  },
  {
   "cell_type": "code",
   "execution_count": null,
   "outputs": [],
   "source": [
    "solve(\"btrackmrvac3\", \"veryeasy.txt\")"
   ],
   "metadata": {
    "collapsed": false
   },
   "id": "4f168d20c720be47"
  }
 ],
 "metadata": {
  "jupytext": {
   "cell_metadata_filter": "-all",
   "notebook_metadata_filter": "-all"
  },
  "kernelspec": {
   "display_name": "Python 3 (ipykernel)",
   "language": "python",
   "name": "python3"
  },
  "language_info": {
   "codemirror_mode": {
    "name": "ipython",
    "version": 3
   },
   "file_extension": ".py",
   "mimetype": "text/x-python",
   "name": "python",
   "nbconvert_exporter": "python",
   "pygments_lexer": "ipython3",
   "version": "3.10.11"
  }
 },
 "nbformat": 4,
 "nbformat_minor": 5
}
